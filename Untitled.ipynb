{
 "cells": [
  {
   "cell_type": "code",
   "execution_count": 56,
   "id": "dcda6432",
   "metadata": {
    "scrolled": false
   },
   "outputs": [
    {
     "ename": "SyntaxError",
     "evalue": "invalid syntax (67244804.py, line 30)",
     "output_type": "error",
     "traceback": [
      "\u001b[1;36m  Cell \u001b[1;32mIn[56], line 30\u001b[1;36m\u001b[0m\n\u001b[1;33m    except ZeroDivisionError as zde:\u001b[0m\n\u001b[1;37m    ^\u001b[0m\n\u001b[1;31mSyntaxError\u001b[0m\u001b[1;31m:\u001b[0m invalid syntax\n"
     ]
    }
   ],
   "source": [
    "def add_numbers(x,y):\n",
    "    return x + y\n",
    "def subtract(x,y):\n",
    "    return x - y\n",
    "def devide(x,y):\n",
    "    return x/y\n",
    "while True:\n",
    "    first_number =float(input(\"Number= \"))\n",
    "    operator = input(\"Operator = \")\n",
    "    sec_number =float(input(\"Number= \"))\n",
    "     \n",
    "    if operator== '/' and sec_number==0:\n",
    "        raise ZeroDivisionError('zero division is not allowed')\n",
    "\n",
    "        \n",
    "    if operator== '+':\n",
    "        result = add_numbers(first_number,sec_number)\n",
    "    elif operator== '-':\n",
    "        result = subtract(first_number,sec_number)\n",
    "    elif operator=='/':\n",
    "        result = devide(first_number,sec_number)\n",
    "    else: \n",
    "        print('not defined')\n",
    "        break\n",
    "    \n",
    "    print(result)\n",
    "    more =str(input(\"do u still want to continue ? \"))\n",
    "    if more.lower() !=\"yes\": \n",
    "        break\n",
    "except ZeroDivisionError as zde:\n",
    "    print(f\"Error: {zde}. Can not divide by zero.\")\n",
    "    "
   ]
  },
  {
   "cell_type": "code",
   "execution_count": 57,
   "id": "a1e8df8d",
   "metadata": {},
   "outputs": [
    {
     "name": "stdout",
     "output_type": "stream",
     "text": [
      "Enter your age: -1\n",
      "Error: Age cannot be negative.\n"
     ]
    }
   ],
   "source": [
    "def validate_age(age):\n",
    "    if age < 0:\n",
    "        raise ValueError(\"Age cannot be negative.\")\n",
    "    return f\"Valid age: {age}\"\n",
    "\n",
    "try:\n",
    "    user_age = int(input(\"Enter your age: \"))\n",
    "    result = validate_age(user_age)\n",
    "    print(result)\n",
    "except ValueError as e:\n",
    "    print(f\"Error: {e}\")\n"
   ]
  },
  {
   "cell_type": "code",
   "execution_count": null,
   "id": "5b6a867f",
   "metadata": {},
   "outputs": [],
   "source": []
  }
 ],
 "metadata": {
  "kernelspec": {
   "display_name": "Python 3 (ipykernel)",
   "language": "python",
   "name": "python3"
  },
  "language_info": {
   "codemirror_mode": {
    "name": "ipython",
    "version": 3
   },
   "file_extension": ".py",
   "mimetype": "text/x-python",
   "name": "python",
   "nbconvert_exporter": "python",
   "pygments_lexer": "ipython3",
   "version": "3.11.5"
  }
 },
 "nbformat": 4,
 "nbformat_minor": 5
}
