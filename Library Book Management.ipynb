{
 "cells": [
  {
   "cell_type": "code",
   "execution_count": 15,
   "id": "39bf0e84",
   "metadata": {
    "scrolled": true
   },
   "outputs": [
    {
     "name": "stdout",
     "output_type": "stream",
     "text": [
      "Enter the librarian's name: Muhd Aqil \n",
      "Enter the book titles (separated by commas): Book of Jungle, Kamus Oxfords\n",
      "Enter the checkout duration (press Enter for default '2 weeks'): 3 weeks\n",
      "Enter the late fee per day (press Enter for no late fee): 0.2\n",
      "Enter the number of renewals allowed (press Enter for no renewals): 2\n",
      "Enter any special conditions (separated by commas, press Enter for none): Handle with care \n",
      "------------------------------------------------------\n",
      "Checkout Processed by: Muhd Aqil \n",
      "Books Checked Out:\n",
      "- Book of Jungle\n",
      "- Kamus Oxfords\n",
      "Checkout Duration: 3 weeks\n",
      "Additional Checkout Details:\n",
      "- Late Fee: $0.20 per day\n",
      "- Renewals Allowed: 2\n",
      "- Special Conditions: Handle with care\n",
      "\n"
     ]
    }
   ],
   "source": [
    "def checkout_books(librarian_name, book_titles, duration='2 weeks', **kwargs):\n",
    "    checkout_details = f\"Checkout Processed by: {librarian_name}\\n\"\n",
    "    checkout_details += \"Books Checked Out:\\n\"\n",
    "    checkout_details += \"\\n\".join([f\"- {book.strip()}\" for book in book_titles])\n",
    "    checkout_details += f\"\\nCheckout Duration: {duration}\\n\"\n",
    "    \n",
    "    additional_details = \"\"\n",
    "\n",
    "    late_fee = kwargs.get('late_fee')\n",
    "    if late_fee is not None:\n",
    "        late_fee = float(late_fee)\n",
    "        additional_details += f\"- Late Fee: ${'{:.2f}'.format(late_fee)} per day\\n\"\n",
    "\n",
    "    renewals_allowed = kwargs.get('renewals_allowed')\n",
    "    if renewals_allowed:\n",
    "        additional_details += f\"- Renewals Allowed: {renewals_allowed}\\n\"\n",
    "\n",
    "    special_conditions = kwargs.get('special_conditions')\n",
    "    if special_conditions:\n",
    "        additional_details += f\"- Special Conditions: {', '.join([condition.strip() for condition in special_conditions])}\\n\"\n",
    "\n",
    "    if additional_details:\n",
    "        checkout_details += \"Additional Checkout Details:\\n\"\n",
    "        checkout_details += additional_details\n",
    "\n",
    "    return checkout_details\n",
    "\n",
    "def get_input():\n",
    "    librarian_name = input(\"Enter the librarian's name: \")\n",
    "    book_titles = [book.strip() for book in input(\"Enter the book titles (separated by commas): \").split(',')]\n",
    "    duration = input(\"Enter the checkout duration (press Enter for default '2 weeks'): \") or '2 weeks'\n",
    "    \n",
    "    late_fee_input = input(\"Enter the late fee per day (press Enter for no late fee): \").strip()\n",
    "    late_fee = '{:.2f}'.format(float(late_fee_input)) if late_fee_input else 0.0\n",
    "    \n",
    "    renewals_allowed = int(input(\"Enter the number of renewals allowed (press Enter for no renewals): \") or 0)\n",
    "    special_conditions = [condition.strip() for condition in input(\"Enter any special conditions (separated by commas, press Enter for none): \").split(',') if condition.strip()]\n",
    "\n",
    "    return librarian_name, book_titles, duration, {'late_fee': late_fee, 'renewals_allowed': renewals_allowed, 'special_conditions': special_conditions}\n",
    "\n",
    "librarian_name, book_titles, duration, kwargs = get_input()\n",
    "result = checkout_books(librarian_name=librarian_name, book_titles=book_titles, duration=duration, **kwargs)\n",
    "\n",
    "print('------------------------------------------------------')\n",
    "print(result)\n"
   ]
  }
 ],
 "metadata": {
  "kernelspec": {
   "display_name": "Python 3 (ipykernel)",
   "language": "python",
   "name": "python3"
  },
  "language_info": {
   "codemirror_mode": {
    "name": "ipython",
    "version": 3
   },
   "file_extension": ".py",
   "mimetype": "text/x-python",
   "name": "python",
   "nbconvert_exporter": "python",
   "pygments_lexer": "ipython3",
   "version": "3.11.5"
  }
 },
 "nbformat": 4,
 "nbformat_minor": 5
}
