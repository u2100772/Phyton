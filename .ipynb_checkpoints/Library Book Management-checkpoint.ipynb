{
 "cells": [
  {
   "cell_type": "code",
   "execution_count": 29,
   "id": "87b8220c",
   "metadata": {
    "scrolled": true
   },
   "outputs": [
    {
     "name": "stdout",
     "output_type": "stream",
     "text": [
      "Enter the librarian's name: Muhd Aqil \n",
      "Enter the book titles (separated by commas): Books of Jungle\n",
      "Enter the checkout duration (press Enter for default '2 weeks'): \n",
      "Enter the late fee per day (press Enter for no late fee): 0.4\n",
      "Enter the number of renewals allowed (press Enter for no renewals): 2\n",
      "Enter any special conditions (separated by commas, press Enter for none): Handle with care\n",
      "------------------------------------------------------\n",
      "Checkout Processed by: Muhd Aqil \n",
      "Books Checked Out:\n",
      "- Books of Jungle\n",
      "Checkout Duration: 2 weeks\n",
      "- Renewals Allowed: 2\n",
      "- Special Conditions: Handle with care\n",
      "\n"
     ]
    }
   ],
   "source": [
    "def checkout_books(librarian_name, book_titles, duration='2 weeks', **kwargs):\n",
    "    checkout_details = f\"Checkout Processed by: {librarian_name}\\n\"\n",
    "    checkout_details += \"Books Checked Out:\\n\"\n",
    "    checkout_details += \"\\n\".join([f\"- {book.strip()}\" for book in book_titles])\n",
    "    checkout_details += f\"\\nCheckout Duration: {duration}\\n\"\n",
    "    \n",
    "    if kwargs.get('late_fee'):\n",
    "        checkout_details += f\"Additional Checkout Details:\\n\"\n",
    "        checkout_details += f\"- Late Fee: ${kwargs['late_fee']} per day\\n\"\n",
    "    \n",
    "    if kwargs.get('renewals_allowed'):\n",
    "        checkout_details += f\"- Renewals Allowed: {kwargs['renewals_allowed']}\\n\"\n",
    "\n",
    "    special_conditions = kwargs.get('special_conditions')\n",
    "    if special_conditions:\n",
    "        checkout_details += f\"- Special Conditions: {', '.join([condition.strip() for condition in special_conditions])}\\n\"\n",
    "\n",
    "    return checkout_details\n",
    "\n",
    "def get_input():\n",
    "    librarian_name = input(\"Enter the librarian's name: \")\n",
    "    book_titles = [book.strip() for book in input(\"Enter the book titles (separated by commas): \").split(',')]\n",
    "    duration = input(\"Enter the checkout duration (press Enter for default '2 weeks'): \") or '2 weeks'\n",
    "    \n",
    "    late_fee_input = input(\"Enter the late fee per day (press Enter for no late fee): \").strip().lower()\n",
    "    late_fee = '{:.2f}'.format(float(late_fee_input[2:])) if late_fee_input.startswith('rm') else None\n",
    "    \n",
    "    renewals_allowed = int(input(\"Enter the number of renewals allowed (press Enter for no renewals): \") or 0)\n",
    "    special_conditions = [condition.strip() for condition in input(\"Enter any special conditions (separated by commas, press Enter for none): \").split(',') if condition.strip()]\n",
    "\n",
    "    return librarian_name, book_titles, duration, {'late_fee': late_fee}, renewals_allowed, {'special_conditions': special_conditions}\n",
    "\n",
    "librarian_name, book_titles, duration, kwargs, renewals_allowed, additional_info = get_input()\n",
    "result = checkout_books(librarian_name=librarian_name, book_titles=book_titles, duration=duration, **kwargs, renewals_allowed=renewals_allowed, **additional_info)\n",
    "\n",
    "print('------------------------------------------------------')\n",
    "print(result)\n"
   ]
  },
  {
   "cell_type": "code",
   "execution_count": null,
   "id": "55e96449",
   "metadata": {},
   "outputs": [],
   "source": []
  }
 ],
 "metadata": {
  "kernelspec": {
   "display_name": "Python 3 (ipykernel)",
   "language": "python",
   "name": "python3"
  },
  "language_info": {
   "codemirror_mode": {
    "name": "ipython",
    "version": 3
   },
   "file_extension": ".py",
   "mimetype": "text/x-python",
   "name": "python",
   "nbconvert_exporter": "python",
   "pygments_lexer": "ipython3",
   "version": "3.11.5"
  }
 },
 "nbformat": 4,
 "nbformat_minor": 5
}
